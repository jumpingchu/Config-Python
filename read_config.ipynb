{
 "cells": [
  {
   "cell_type": "markdown",
   "metadata": {},
   "source": [
    "### Read `.ini` file"
   ]
  },
  {
   "cell_type": "code",
   "execution_count": 45,
   "metadata": {},
   "outputs": [
    {
     "name": "stdout",
     "output_type": "stream",
     "text": [
      "host: 127.0.0.1 (str)\n",
      "username: mysql_root (str)\n",
      "port: 3306 (str)\n"
     ]
    }
   ],
   "source": [
    "import configparser\n",
    "\n",
    "def read_ini(filepath):\n",
    "    config = configparser.ConfigParser()\n",
    "    config.read(filepath)\n",
    "    return config\n",
    "\n",
    "ini_config = read_ini('config.ini')\n",
    "mysql_info = ini_config['MYSQL']\n",
    "\n",
    "host = mysql_info['HOST']\n",
    "username = mysql_info['USERNAME'] \n",
    "port = mysql_info['PORT']\n",
    "\n",
    "print('host:', host, f'({type(host).__name__})')\n",
    "print('username:', username, f'({type(username).__name__})')\n",
    "print('port:', port, f'({type(port).__name__})')"
   ]
  },
  {
   "cell_type": "markdown",
   "metadata": {},
   "source": [
    "### Read `.yaml` file"
   ]
  },
  {
   "cell_type": "code",
   "execution_count": 44,
   "metadata": {},
   "outputs": [
    {
     "name": "stdout",
     "output_type": "stream",
     "text": [
      "host: 127.0.0.1 (str)\n",
      "username: mysql_root (str)\n",
      "port: 3306 (int)\n"
     ]
    }
   ],
   "source": [
    "import yaml\n",
    "\n",
    "def read_yaml(filepath):\n",
    "    with open(filepath) as f:\n",
    "        config = yaml.safe_load(f)\n",
    "    return config\n",
    "\n",
    "yaml_config = read_yaml('config.yaml')\n",
    "mysql_info = yaml_config['DB_INFO']['MYSQL']\n",
    "\n",
    "host = mysql_info['HOST']\n",
    "username = mysql_info['USERNAME'] \n",
    "port = mysql_info['PORT']\n",
    "\n",
    "print('host:', host, f'({type(host).__name__})')\n",
    "print('username:', username, f'({type(username).__name__})')\n",
    "print('port:', port, f'({type(port).__name__})')"
   ]
  },
  {
   "cell_type": "markdown",
   "metadata": {},
   "source": [
    "### Read `.toml` file"
   ]
  },
  {
   "cell_type": "code",
   "execution_count": 43,
   "metadata": {},
   "outputs": [
    {
     "name": "stdout",
     "output_type": "stream",
     "text": [
      "host: 127.0.0.1 (str)\n",
      "username: mysql_root (str)\n",
      "port: 3306 (int)\n"
     ]
    }
   ],
   "source": [
    "import tomllib\n",
    "\n",
    "def read_toml(filepath):\n",
    "    with open(filepath, \"rb\") as f:\n",
    "        config = tomllib.load(f)\n",
    "    return config\n",
    "\n",
    "toml_config = read_toml('config.toml')\n",
    "mysql_info = toml_config['DB_INFO']['MYSQL']\n",
    "\n",
    "host = mysql_info['HOST']\n",
    "username = mysql_info['USERNAME'] \n",
    "port = mysql_info['PORT']\n",
    "\n",
    "print('host:', host, f'({type(host).__name__})')\n",
    "print('username:', username, f'({type(username).__name__})')\n",
    "print('port:', port, f'({type(port).__name__})')"
   ]
  }
 ],
 "metadata": {
  "kernelspec": {
   "display_name": "Python 3",
   "language": "python",
   "name": "python3"
  },
  "language_info": {
   "codemirror_mode": {
    "name": "ipython",
    "version": 3
   },
   "file_extension": ".py",
   "mimetype": "text/x-python",
   "name": "python",
   "nbconvert_exporter": "python",
   "pygments_lexer": "ipython3",
   "version": "3.11.4"
  },
  "orig_nbformat": 4
 },
 "nbformat": 4,
 "nbformat_minor": 2
}
